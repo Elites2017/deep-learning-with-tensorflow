{
 "cells": [
  {
   "cell_type": "markdown",
   "metadata": {},
   "source": [
    "# Saving and Restoring `tf.Session`"
   ]
  },
  {
   "cell_type": "code",
   "execution_count": 1,
   "metadata": {
    "collapsed": true
   },
   "outputs": [],
   "source": [
    "import os.path\n",
    "import tensorflow as tf\n",
    "import prettytensor as pt\n",
    "from tqdm import tqdm"
   ]
  },
  {
   "cell_type": "markdown",
   "metadata": {},
   "source": [
    "## Load datasets"
   ]
  },
  {
   "cell_type": "code",
   "execution_count": 2,
   "metadata": {
    "collapsed": false
   },
   "outputs": [
    {
     "name": "stdout",
     "output_type": "stream",
     "text": [
      "Extracting ../datasets/MNIST/train-images-idx3-ubyte.gz\n",
      "Extracting ../datasets/MNIST/train-labels-idx1-ubyte.gz\n",
      "Extracting ../datasets/MNIST/t10k-images-idx3-ubyte.gz\n",
      "Extracting ../datasets/MNIST/t10k-labels-idx1-ubyte.gz\n"
     ]
    }
   ],
   "source": [
    "from tensorflow.examples.tutorials.mnist import input_data\n",
    "data = input_data.read_data_sets('../datasets/MNIST/', one_hot=True)"
   ]
  },
  {
   "cell_type": "code",
   "execution_count": 3,
   "metadata": {
    "collapsed": false
   },
   "outputs": [
    {
     "name": "stdout",
     "output_type": "stream",
     "text": [
      "Training:   = 55,000\n",
      "Testing:    = 10,000\n",
      "Validation: =  5,000\n"
     ]
    }
   ],
   "source": [
    "print('Training:   = {:,}'.format(data.train.num_examples))\n",
    "print('Testing:    = {:,}'.format(data.test.num_examples))\n",
    "print('Validation: =  {:,}'.format(data.validation.num_examples))"
   ]
  },
  {
   "cell_type": "markdown",
   "metadata": {},
   "source": [
    "## Hyperparameters"
   ]
  },
  {
   "cell_type": "code",
   "execution_count": 4,
   "metadata": {
    "collapsed": true
   },
   "outputs": [],
   "source": [
    "# Network\n",
    "image_size = 28\n",
    "num_channels = 1\n",
    "image_shape = image_size * image_size * num_channels\n",
    "kernel_size = 5\n",
    "conv1_depth = 8\n",
    "conv2_depth = 16\n",
    "conv3_depth = 32\n",
    "conv4_depth = 64\n",
    "conv5_depth = 128\n",
    "conv6_depth = 256\n",
    "fc_size = 1024\n",
    "num_classes = 10\n",
    "\n",
    "# Training\n",
    "learning_rate = 1e-2\n",
    "batch_size = 24\n",
    "iterations = 0\n",
    "save_step = 1000\n",
    "save_path = '../logs/save-restore-convnet/'\n",
    "best_val_acc = 0.0\n",
    "last_improvement = 0\n",
    "improvement_requirement = 1000"
   ]
  },
  {
   "cell_type": "markdown",
   "metadata": {},
   "source": [
    "## Create Log dir"
   ]
  },
  {
   "cell_type": "code",
   "execution_count": 5,
   "metadata": {
    "collapsed": true
   },
   "outputs": [],
   "source": [
    "if not os.path.exists(save_path):\n",
    "    os.makedirs(save_path)"
   ]
  },
  {
   "cell_type": "markdown",
   "metadata": {},
   "source": [
    "## Define Model's placeholder variables"
   ]
  },
  {
   "cell_type": "code",
   "execution_count": 6,
   "metadata": {
    "collapsed": true
   },
   "outputs": [],
   "source": [
    "X = tf.placeholder(tf.float32, [None, image_shape])\n",
    "y = tf.placeholder(tf.float32, [None, num_classes])\n",
    "y_true = tf.argmax(y, axis=1)"
   ]
  },
  {
   "cell_type": "markdown",
   "metadata": {},
   "source": [
    "## Constructing the Network"
   ]
  },
  {
   "cell_type": "code",
   "execution_count": 7,
   "metadata": {
    "collapsed": true
   },
   "outputs": [],
   "source": [
    "X_image = tf.reshape(X, shape=[-1, image_size, image_size, num_channels])\n",
    "X_pretty = pt.wrap(X_image)\n",
    "\n",
    "with pt.defaults_scope(activation_fn=tf.nn.relu):\n",
    "    y_pred, loss = X_pretty.\\\n",
    "                    conv2d(kernel=kernel_size, depth=conv1_depth, name='conv1').\\\n",
    "                    max_pool(kernel=2, stride=2).\\\n",
    "                    conv2d(kernel=kernel_size, depth=conv2_depth, name='conv2').\\\n",
    "                    max_pool(kernel=2, stride=2).\\\n",
    "                    conv2d(kernel=kernel_size, depth=conv3_depth, name='conv1').\\\n",
    "                    max_pool(kernel=2, stride=2).\\\n",
    "                    conv2d(kernel=kernel_size, depth=conv4_depth, name='conv2').\\\n",
    "                    max_pool(kernel=2, stride=2).\\\n",
    "                    conv2d(kernel=kernel_size, depth=conv5_depth, name='conv1').\\\n",
    "                    max_pool(kernel=2, stride=2).\\\n",
    "                    conv2d(kernel=kernel_size, depth=conv6_depth, name='conv2').\\\n",
    "                    max_pool(kernel=2, stride=2).\\\n",
    "                    flatten().\\\n",
    "                    fully_connected(size=fc_size, name='fully_connected').\\\n",
    "                    softmax_classifier(num_classes=num_classes, labels=y)"
   ]
  },
  {
   "cell_type": "markdown",
   "metadata": {},
   "source": [
    "## Optimize the `loss` from the Network"
   ]
  },
  {
   "cell_type": "code",
   "execution_count": 8,
   "metadata": {
    "collapsed": true
   },
   "outputs": [],
   "source": [
    "optimizer = tf.train.AdamOptimizer(learning_rate=learning_rate)\n",
    "train_step = optimizer.minimize(loss)"
   ]
  },
  {
   "cell_type": "markdown",
   "metadata": {},
   "source": [
    "## Define a `tf.train.Saver` object"
   ]
  },
  {
   "cell_type": "code",
   "execution_count": 9,
   "metadata": {
    "collapsed": true
   },
   "outputs": [],
   "source": [
    "saver = tf.train.Saver()"
   ]
  },
  {
   "cell_type": "markdown",
   "metadata": {},
   "source": [
    "## Evaluate Network's accuracy"
   ]
  },
  {
   "cell_type": "code",
   "execution_count": 10,
   "metadata": {
    "collapsed": false
   },
   "outputs": [],
   "source": [
    "y_pred_true = tf.argmax(y_pred, axis=1)\n",
    "correct = tf.equal(y_pred_true, y_true)\n",
    "accuracy = tf.reduce_mean(tf.cast(correct, tf.float32))"
   ]
  },
  {
   "cell_type": "markdown",
   "metadata": {},
   "source": [
    "## Running the network\n",
    "### Define `tf.Session` as the default graph"
   ]
  },
  {
   "cell_type": "code",
   "execution_count": 11,
   "metadata": {
    "collapsed": true
   },
   "outputs": [],
   "source": [
    "sess = tf.Session()\n",
    "init = tf.global_variables_initializer()\n",
    "sess.run(init)"
   ]
  },
  {
   "cell_type": "code",
   "execution_count": 12,
   "metadata": {
    "collapsed": true
   },
   "outputs": [],
   "source": [
    "# Run accuracy for both test and validation sets\n",
    "def accuracy_eval(validation=False, test=True):\n",
    "    test_acc = 0.0\n",
    "    val_acc = 0.0\n",
    "    if test:\n",
    "        feed_dict_test = {X:data.test.images, y:data.test.labels}\n",
    "        test_acc = sess.run(accuracy, feed_dict=feed_dict_test)\n",
    "    if validation:\n",
    "        feed_dict_val = {X:data.validation.images, y:data.validation.labels}\n",
    "        val_acc = sess.run(accuracy, feed_dict=feed_dict_val)\n",
    "    return test_acc, val_acc\n",
    "\n",
    "\n",
    "# Display Accuracy\n",
    "def print_accuracy(validation=False, test=True):\n",
    "    test_acc, val_acc = accuracy_eval(validation=validation, test=True)\n",
    "    msg = 'After {:,} iterations:\\n'.format(iterations)\n",
    "    if test:\n",
    "        msg += '\\tTest Accuracy\\t\\t= {:.2%}\\n'.format(test_acc)\n",
    "    if validation:\n",
    "        msg += '\\tValidation Accuracy\\t= {:.2%}\\n'.format(val_acc)\n",
    "    print(msg)\n",
    "\n",
    "\n",
    "# Run the optimizer\n",
    "def optimize(num_iter=100):\n",
    "    global iterations\n",
    "    global last_improvement\n",
    "    global best_val_acc\n",
    "    \n",
    "    for i in tqdm(range(0, num_iter)):\n",
    "        # Early stopping\n",
    "        if iterations - last_improvement > improvement_requirement:\n",
    "            print('\\nStopping optimization @ {:,} iter due to none improvement in accuracy!!!'.format(iterations))\n",
    "            break\n",
    "        # Update iterations\n",
    "        iterations += 1\n",
    "        # Get training batch\n",
    "        X_batch, y_batch = data.train.next_batch(batch_size=batch_size)\n",
    "        feed_dict = {X: X_batch, y: y_batch}\n",
    "        # Train the network\n",
    "        sess.run(train_step, feed_dict=feed_dict)\n",
    "        \n",
    "        # Log after every `save_step`\n",
    "        if i != 0 and ((i%save_step) == 0 or i == num_iter - 1):\n",
    "            _, val_acc = accuracy_eval(validation=True, test=False)\n",
    "            if val_acc > best_val_acc:\n",
    "                # Save the session into the saver object\n",
    "                saver.save(sess=sess, save_path=save_path)\n",
    "                print('Iteration: {:,}'.format(iterations))\n",
    "                print('Last validation = {:.02%}\\tNew validation: {:.02%}'.format(best_val_acc, val_acc))\n",
    "                # Update the best_val_acc and last improvement\n",
    "                last_improvement = i\n",
    "                best_val_acc = val_acc\n",
    "    # Log optimization info\n",
    "    print('Optimization details:')\n",
    "    print_accuracy(validation=True, test=True)"
   ]
  },
  {
   "cell_type": "code",
   "execution_count": 13,
   "metadata": {
    "collapsed": false
   },
   "outputs": [
    {
     "name": "stdout",
     "output_type": "stream",
     "text": [
      "After 0 iterations:\n",
      "\tTest Accuracy\t\t= 8.47%\n",
      "\n"
     ]
    }
   ],
   "source": [
    "print_accuracy()"
   ]
  },
  {
   "cell_type": "code",
   "execution_count": 14,
   "metadata": {
    "collapsed": false
   },
   "outputs": [
    {
     "name": "stderr",
     "output_type": "stream",
     "text": [
      "100%|██████████| 100/100 [00:09<00:00, 10.28it/s]"
     ]
    },
    {
     "name": "stdout",
     "output_type": "stream",
     "text": [
      "Iteration: 100\n",
      "Last validation = 0.00%\tNew validation: 11.26%\n",
      "Optimization details:\n"
     ]
    },
    {
     "name": "stderr",
     "output_type": "stream",
     "text": [
      "\n"
     ]
    },
    {
     "name": "stdout",
     "output_type": "stream",
     "text": [
      "After 100 iterations:\n",
      "\tTest Accuracy\t\t= 11.35%\n",
      "\tValidation Accuracy\t= 11.26%\n",
      "\n"
     ]
    }
   ],
   "source": [
    "optimize(num_iter=100)"
   ]
  },
  {
   "cell_type": "code",
   "execution_count": 15,
   "metadata": {
    "collapsed": false
   },
   "outputs": [
    {
     "name": "stderr",
     "output_type": "stream",
     "text": [
      "100%|██████████| 900/900 [00:59<00:00,  2.63it/s]\n"
     ]
    },
    {
     "name": "stdout",
     "output_type": "stream",
     "text": [
      "Optimization details:\n",
      "After 1,000 iterations:\n",
      "\tTest Accuracy\t\t= 10.09%\n",
      "\tValidation Accuracy\t= 9.90%\n",
      "\n"
     ]
    }
   ],
   "source": [
    "optimize(num_iter=900)"
   ]
  },
  {
   "cell_type": "code",
   "execution_count": 16,
   "metadata": {
    "collapsed": false
   },
   "outputs": [
    {
     "name": "stderr",
     "output_type": "stream",
     "text": [
      "  1%|          | 99/10000 [00:06<10:10, 16.23it/s]\n"
     ]
    },
    {
     "name": "stdout",
     "output_type": "stream",
     "text": [
      "\n",
      "Stopping optimization @ 1,100 iter due to none improvement in accuracy!!!\n",
      "Optimization details:\n",
      "After 1,100 iterations:\n",
      "\tTest Accuracy\t\t= 11.35%\n",
      "\tValidation Accuracy\t= 11.26%\n",
      "\n"
     ]
    }
   ],
   "source": [
    "optimize(num_iter=10000)"
   ]
  },
  {
   "cell_type": "markdown",
   "metadata": {},
   "source": [
    "## Restoring the `tf.Session`"
   ]
  },
  {
   "cell_type": "code",
   "execution_count": 17,
   "metadata": {
    "collapsed": false
   },
   "outputs": [
    {
     "name": "stdout",
     "output_type": "stream",
     "text": [
      "After 1,100 iterations:\n",
      "\tTest Accuracy\t\t= 9.79%\n",
      "\tValidation Accuracy\t= 9.42%\n",
      "\n"
     ]
    }
   ],
   "source": [
    "# reset global variables\n",
    "sess.run(init)\n",
    "# print the accuracy\n",
    "print_accuracy(validation=True, test=True)"
   ]
  },
  {
   "cell_type": "code",
   "execution_count": 18,
   "metadata": {
    "collapsed": false
   },
   "outputs": [
    {
     "name": "stdout",
     "output_type": "stream",
     "text": [
      "INFO:tensorflow:Restoring parameters from log_dir/\n",
      "After 1,100 iterations:\n",
      "\tTest Accuracy\t\t= 11.35%\n",
      "\tValidation Accuracy\t= 11.26%\n",
      "\n"
     ]
    }
   ],
   "source": [
    "# Restore the session\n",
    "saver.restore(sess=sess, save_path=save_path)\n",
    "print_accuracy(validation=True, test=True)"
   ]
  },
  {
   "cell_type": "markdown",
   "metadata": {},
   "source": [
    "## Close the `tf.Session`"
   ]
  },
  {
   "cell_type": "code",
   "execution_count": 19,
   "metadata": {
    "collapsed": true
   },
   "outputs": [],
   "source": [
    "sess.close()"
   ]
  },
  {
   "cell_type": "code",
   "execution_count": null,
   "metadata": {
    "collapsed": true
   },
   "outputs": [],
   "source": [
    ""
   ]
  }
 ],
 "metadata": {
  "kernelspec": {
   "display_name": "Python 3",
   "language": "python",
   "name": "python3"
  },
  "language_info": {
   "codemirror_mode": {
    "name": "ipython",
    "version": 3.0
   },
   "file_extension": ".py",
   "mimetype": "text/x-python",
   "name": "python",
   "nbconvert_exporter": "python",
   "pygments_lexer": "ipython3",
   "version": "3.6.2"
  }
 },
 "nbformat": 4,
 "nbformat_minor": 0
}