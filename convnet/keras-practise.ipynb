{
 "cells": [
  {
   "cell_type": "markdown",
   "metadata": {},
   "source": [
    "# Keras API"
   ]
  },
  {
   "cell_type": "code",
   "execution_count": 1,
   "metadata": {
    "collapsed": true
   },
   "outputs": [],
   "source": [
    "import os\n",
    "import sys\n",
    "import pickle\n",
    "from datetime import datetime as dt\n",
    "\n",
    "import numpy as np\n",
    "import tensorflow as tf\n",
    "import matplotlib.pyplot as plt\n",
    "\n",
    "from keras.models import Model, load_model\n",
    "from keras.models import Sequential\n",
    "from keras.layers import Input, InputLayer\n",
    "from keras.layers import Reshape, MaxPooling2D\n",
    "from keras.layers import Conv2D, Dense, Flatten\n",
    "from keras.optimizers import Adam\n",
    "\n",
    "%matplotlib inline"
   ]
  },
  {
   "cell_type": "markdown",
   "metadata": {},
   "source": [
    "### Loading dataset"
   ]
  },
  {
   "cell_type": "code",
   "execution_count": 2,
   "metadata": {
    "collapsed": false
   },
   "outputs": [
    {
     "name": "stdout",
     "output_type": "stream",
     "text": [
      "Extracting ../datasets/MNIST/train-images-idx3-ubyte.gz\n",
      "Extracting ../datasets/MNIST/train-labels-idx1-ubyte.gz\n",
      "Extracting ../datasets/MNIST/t10k-images-idx3-ubyte.gz\n",
      "Extracting ../datasets/MNIST/t10k-labels-idx1-ubyte.gz\n",
      "Took 0:00:00.686761\n",
      "\n",
      "Cached data for future use.\n"
     ]
    }
   ],
   "source": [
    "from tensorflow.examples.tutorials.mnist import input_data\n",
    "\n",
    "\n",
    "save_dir = '../saved/convnet/practise/keras'\n",
    "data_dir = '../datasets/MNIST'\n",
    "saved_data = os.path.join(save_dir, f'data/{os.path.basename(data_dir)}.pkl')\n",
    "\n",
    "if not os.path.isfile(saved_data):\n",
    "    start = dt.now()\n",
    "    data = input_data.read_data_sets(data_dir, one_hot=True)\n",
    "    print(f'Took {dt.now() - start}')\n",
    "    if not os.path.exists(os.path.dirname(saved_data)):\n",
    "        os.makedirs(os.path.dirname(saved_data))\n",
    "    pickle.dump(file=open(saved_data, 'wb'), obj=data)\n",
    "    \n",
    "    print('\\nCached data for future use.')\n",
    "else:\n",
    "    start = dt.now()\n",
    "    data = pickle.load(file=open(saved_data, 'rb'))\n",
    "    print('Loaded cached data.')\n",
    "    print(f'Took {dt.now() - start}')\n",
    "\n",
    "data.test.cls = np.argmax(data.test.labels, axis=1)\n",
    "\n",
    "# free memory\n",
    "del start"
   ]
  },
  {
   "cell_type": "markdown",
   "metadata": {},
   "source": [
    "### Hyperparameters"
   ]
  },
  {
   "cell_type": "code",
   "execution_count": 3,
   "metadata": {
    "collapsed": true
   },
   "outputs": [],
   "source": [
    "# Data dimension\n",
    "img_channel = 1\n",
    "img_size = 28\n",
    "img_size_flat = img_size * img_size * img_channel\n",
    "num_classes = 10\n",
    "\n",
    "# Network\n",
    "kernel_size = 5\n",
    "filter_1 = 32\n",
    "filter_2 = 64\n",
    "fc_size = 256\n",
    "dropout = 0.8\n",
    "\n",
    "# Training\n",
    "train_batch = 100\n",
    "test_batch = 50\n",
    "val_batch = 25\n",
    "learning_rate = 1e-2\n",
    "n_iters = 0  # Total number of completed optimization iterations\n",
    "save_interval = 100"
   ]
  },
  {
   "cell_type": "markdown",
   "metadata": {},
   "source": [
    "### Visualization helpers"
   ]
  },
  {
   "cell_type": "code",
   "execution_count": 4,
   "metadata": {
    "collapsed": true
   },
   "outputs": [],
   "source": [
    "def plot_images(images, cls_true, cls_pred=None):\n",
    "    assert len(images) == len(cls_true) == 9\n",
    "    \n",
    "    # Create figure with 3x3 sub-plots.\n",
    "    fig, axes = plt.subplots(3, 3)\n",
    "    fig.subplots_adjust(hspace=0.3, wspace=0.3)\n",
    "\n",
    "    for i, ax in enumerate(axes.flat):\n",
    "        # Plot image.\n",
    "        ax.imshow(images[i].reshape([img_size, img_size]), cmap='binary')\n",
    "\n",
    "        # Show true and predicted classes.\n",
    "        if cls_pred is None:\n",
    "            xlabel = \"True: {0}\".format(cls_true[i])\n",
    "        else:\n",
    "            xlabel = \"True: {0}, Pred: {1}\".format(cls_true[i], cls_pred[i])\n",
    "\n",
    "        # Show the classes as the label on the x-axis.\n",
    "        ax.set_xlabel(xlabel)\n",
    "        \n",
    "        # Remove ticks from the plot.\n",
    "        ax.set_xticks([])\n",
    "        ax.set_yticks([])\n",
    "    plt.suptitle('Metrics')\n",
    "    # Ensure the plot is shown correctly with multiple plots\n",
    "    # in a single Notebook cell.\n",
    "    plt.show()\n",
    "\n",
    "\n",
    "def plot_example_errors(cls_pred):\n",
    "    # cls_pred is an array of the predicted class-number for\n",
    "    # all images in the test-set.\n",
    "\n",
    "    # Boolean array whether the predicted class is incorrect.\n",
    "    incorrect = (cls_pred != data.test.cls)\n",
    "\n",
    "    # Get the images from the test-set that have been\n",
    "    # incorrectly classified.\n",
    "    images = data.test.images[incorrect]\n",
    "    \n",
    "    # Get the predicted classes for those images.\n",
    "    cls_pred = cls_pred[incorrect]\n",
    "\n",
    "    # Get the true classes for those images.\n",
    "    cls_true = data.test.cls[incorrect]\n",
    "    \n",
    "    # Plot the first 9 images.\n",
    "    plot_images(images=images[0:9],\n",
    "                cls_true=cls_true[0:9],\n",
    "                cls_pred=cls_pred[0:9])"
   ]
  },
  {
   "cell_type": "code",
   "execution_count": 20,
   "metadata": {
    "collapsed": false
   },
   "outputs": [
    {
     "data": {
      "image/png": "[encoded data removed]",
      "text/plain": [
       "<matplotlib.figure.Figure at 0x12163da58>"
      ]
     },
     "metadata": {},
     "output_type": "display_data"
    }
   ],
   "source": [
    "test_len = data.test.num_examples\n",
    "\n",
    "start = np.random.randint(test_len-9)\n",
    "end = start + 9\n",
    "imgs = data.test.images[start:end]\n",
    "cls_true = data.test.cls[start:end]\n",
    "plot_images(imgs, cls_true=cls_true)\n",
    "\n",
    "# Free memory\n",
    "del test_len, start, end, imgs, cls_true"
   ]
  },
  {
   "cell_type": "code",
   "execution_count": null,
   "metadata": {
    "collapsed": true
   },
   "outputs": [],
   "source": []
  }
 ],
 "metadata": {
  "kernelspec": {
   "display_name": "Python 3",
   "language": "python",
   "name": "python3"
  },
  "language_info": {
   "codemirror_mode": {
    "name": "ipython",
    "version": 3
   },
   "file_extension": ".py",
   "mimetype": "text/x-python",
   "name": "python",
   "nbconvert_exporter": "python",
   "pygments_lexer": "ipython3",
   "version": "3.6.3"
  }
 },
 "nbformat": 4,
 "nbformat_minor": 2
}
