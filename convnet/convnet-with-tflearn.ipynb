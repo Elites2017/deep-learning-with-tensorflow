{
 "cells": [
  {
   "cell_type": "markdown",
   "metadata": {},
   "source": [
    "# Convolutional Neural Network in `tflearn`"
   ]
  },
  {
   "cell_type": "markdown",
   "metadata": {},
   "source": [
    "## Import dependencies"
   ]
  },
  {
   "cell_type": "code",
   "execution_count": 1,
   "metadata": {
    "collapsed": false
   },
   "outputs": [],
   "source": [
    "import tensorflow as tf\n",
    "import tflearn\n",
    "from tflearn.layers.core import input_data, fully_connected, dropout\n",
    "from tflearn.layers.conv import conv_2d, max_pool_2d\n",
    "from tflearn.layers.normalization import local_response_normalization\n",
    "from tflearn.layers.estimator import regression"
   ]
  },
  {
   "cell_type": "markdown",
   "metadata": {},
   "source": [
    "## Data Loading"
   ]
  },
  {
   "cell_type": "code",
   "execution_count": 2,
   "metadata": {
    "collapsed": false
   },
   "outputs": [
    {
     "name": "stdout",
     "output_type": "stream",
     "text": [
      "Extracting ../datasets/MNIST/train-images-idx3-ubyte.gz\n",
      "Extracting ../datasets/MNIST/train-labels-idx1-ubyte.gz\n",
      "Extracting ../datasets/MNIST/t10k-images-idx3-ubyte.gz\n",
      "Extracting ../datasets/MNIST/t10k-labels-idx1-ubyte.gz\n"
     ]
    }
   ],
   "source": [
    "from tflearn.datasets import mnist\n",
    "X_train, y_train, X_test, y_test = mnist.load_data('../datasets/MNIST', one_hot=True)"
   ]
  },
  {
   "cell_type": "markdown",
   "metadata": {},
   "source": [
    "### Data preprocessing"
   ]
  },
  {
   "cell_type": "code",
   "execution_count": 3,
   "metadata": {
    "collapsed": true
   },
   "outputs": [],
   "source": [
    "X_train = X_train.reshape([-1, 28, 28, 1])\n",
    "X_test = X_test.reshape([-1, 28, 28, 1])"
   ]
  },
  {
   "cell_type": "code",
   "execution_count": null,
   "metadata": {
    "collapsed": false
   },
   "outputs": [],
   "source": []
  },
  {
   "cell_type": "markdown",
   "metadata": {},
   "source": [
    "## Building the Convolutional Neural Network"
   ]
  },
  {
   "cell_type": "code",
   "execution_count": 20,
   "metadata": {
    "collapsed": false
   },
   "outputs": [],
   "source": [
    "# Input layer\n",
    "network = input_data(shape=[None, 28, 28, 1], name='input')\n",
    "\n",
    "# 1st convolutional block\n",
    "network = conv_2d(network, nb_filter=32, filter_size=3, activation='relu', regularizer='L2')\n",
    "network = max_pool_2d(network, kernel_size=2)\n",
    "network = local_response_normalization(network)\n",
    "\n",
    "# 2nd convolutional block\n",
    "network = conv_2d(network, nb_filter=64, filter_size=3, activation='relu', regularizer='L2')\n",
    "network = max_pool_2d(network, kernel_size=2)\n",
    "network = local_response_normalization(network)\n",
    "\n",
    "# 1st Fully connected layer\n",
    "network = fully_connected(network, n_units=128, activation='tanh')\n",
    "network = dropout(network, 0.8)\n",
    "\n",
    "# 2nd Fully connected layer\n",
    "network = fully_connected(network, n_units=256, activation='tanh')\n",
    "network = dropout(network, 0.8)\n",
    "\n",
    "# 3rd fully connected layer\n",
    "network = fully_connected(network, n_units=10, activation='softmax')\n",
    "\n",
    "# Regression layer\n",
    "network = regression(network, optimizer='adam', learning_rate=1e-3,\n",
    "                    loss='categorical_crossentropy', name='target')\n"
   ]
  },
  {
   "cell_type": "markdown",
   "metadata": {},
   "source": [
    "## Running the convnet"
   ]
  },
  {
   "cell_type": "code",
   "execution_count": null,
   "metadata": {
    "collapsed": false
   },
   "outputs": [],
   "source": [
    "model = tflearn.DNN(network, tensorboard_verbose=0)\n",
    "model.fit({'input': X_train}, {'target': y_train}, n_epoch=20,\n",
    "           validation_set=({'input': X_test}, {'target': y_test}),\n",
    "           snapshot_step=100, show_metric=True, run_id='convnet_with_tflearn')"
   ]
  },
  {
   "cell_type": "code",
   "execution_count": null,
   "metadata": {
    "collapsed": true
   },
   "outputs": [],
   "source": []
  }
 ],
 "metadata": {
  "kernelspec": {
   "display_name": "Python 3",
   "language": "python",
   "name": "python3"
  },
  "language_info": {
   "codemirror_mode": {
    "name": "ipython",
    "version": 3
   },
   "file_extension": ".py",
   "mimetype": "text/x-python",
   "name": "python",
   "nbconvert_exporter": "python",
   "pygments_lexer": "ipython3",
   "version": "3.6.2"
  }
 },
 "nbformat": 4,
 "nbformat_minor": 2
}
